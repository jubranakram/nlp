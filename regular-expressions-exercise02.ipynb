{
 "cells": [
  {
   "cell_type": "markdown",
   "id": "fbbe281d-e631-4bc4-b402-d5b6e26899f4",
   "metadata": {},
   "source": [
    "#### Exercise\n",
    "1. Extract FirstName, City, State, PostalCode from the following xml data \n",
    "2. Save the Extracted information as a JSON file"
   ]
  },
  {
   "cell_type": "code",
   "execution_count": 1,
   "id": "c0969c04-b5a0-4240-90a1-1460efbb8feb",
   "metadata": {},
   "outputs": [],
   "source": [
    "import re\n",
    "import json"
   ]
  },
  {
   "cell_type": "code",
   "execution_count": 2,
   "id": "a3f5d2b9-d96a-4f70-a63f-e1760e2f4c1e",
   "metadata": {},
   "outputs": [],
   "source": [
    "text = '''\n",
    "<?xml version=\"1.0\"?>\n",
    "<root>\n",
    "  <item>\n",
    "    <first_name>Tyrique</first_name>\n",
    "    <city>Port Madalynborough</city>\n",
    "    <state>West Virginia</state>\n",
    "    <postcode>22061</postcode>\n",
    "  </item>\n",
    "  <item>\n",
    "    <first_name>Garry</first_name>\n",
    "    <city>Homenickton</city>\n",
    "    <state>Pennsylvania</state>\n",
    "    <postcode>84560</postcode>\n",
    "  </item>\n",
    "  <item>\n",
    "    <first_name>Keshaun</first_name>\n",
    "    <city>Jaylonhaven</city>\n",
    "    <state>Arkansas</state>\n",
    "    <postcode>10557</postcode>\n",
    "  </item>\n",
    "  <item>\n",
    "    <first_name>Telly</first_name>\n",
    "    <city>Lake Evansberg</city>\n",
    "    <state>Mississippi</state>\n",
    "    <postcode>94596</postcode>\n",
    "  </item>\n",
    "  <item>\n",
    "    <first_name>Dana</first_name>\n",
    "    <city>West Colton</city>\n",
    "    <state>Hawaii</state>\n",
    "    <postcode>83751-7397</postcode>\n",
    "  </item>\n",
    "  <item>\n",
    "    <first_name>Devante</first_name>\n",
    "    <city>Danton</city>\n",
    "    <state>South Dakota</state>\n",
    "    <postcode>23183</postcode>\n",
    "  </item>\n",
    "  <item>\n",
    "    <first_name>Heather</first_name>\n",
    "    <city>Onieberg</city>\n",
    "    <state>Tennessee</state>\n",
    "    <postcode>35692-3181</postcode>\n",
    "  </item>\n",
    "  <item>\n",
    "    <first_name>Erica</first_name>\n",
    "    <city>Ottiston</city>\n",
    "    <state>Idaho</state>\n",
    "    <postcode>75234</postcode>\n",
    "  </item>\n",
    "</root>\n",
    "\n",
    "\n",
    "'''"
   ]
  },
  {
   "cell_type": "code",
   "execution_count": 4,
   "id": "a8b9d428-b38c-4dc4-ba4f-3f8318a48c15",
   "metadata": {},
   "outputs": [
    {
     "data": {
      "text/plain": [
       "['Port Madalynborough',\n",
       " 'West Virginia',\n",
       " 'Homenickton',\n",
       " 'Pennsylvania',\n",
       " 'Jaylonhaven',\n",
       " 'Arkansas',\n",
       " 'Lake Evansberg',\n",
       " 'Mississippi',\n",
       " 'West Colton',\n",
       " 'Hawaii',\n",
       " 'Danton',\n",
       " 'South Dakota',\n",
       " 'Onieberg',\n",
       " 'Tennessee',\n",
       " 'Ottiston',\n",
       " 'Idaho']"
      ]
     },
     "execution_count": 4,
     "metadata": {},
     "output_type": "execute_result"
    }
   ],
   "source": [
    "re.findall(\"<[a-z]+>(?P<City>[a-z\\sA-Z]*)</[a-z]+>\", text)"
   ]
  },
  {
   "cell_type": "code",
   "execution_count": 5,
   "id": "22058604-a5b2-40e2-8c36-695eb51d8a61",
   "metadata": {},
   "outputs": [],
   "source": [
    "pattern = re.compile(\"<[a-z]+_[a-z]+>(?P<FirstName>[a-zA-Z]*)</[a-z]+_[a-z]+>\\s*<[a-z]+>(?P<City>[a-z\\sA-Z]*)</[a-z]+>\\s*<[a-z]+>(?P<State>[a-z\\sA-Z]*)</[a-z]+>\\s*<[a-z]+>(?P<PostalCode>\\d*)</[a-z]+>\")"
   ]
  },
  {
   "cell_type": "code",
   "execution_count": 6,
   "id": "128c0eb3-cbdd-4373-b2ae-f91ccc3d05b8",
   "metadata": {},
   "outputs": [],
   "source": [
    "matches = pattern.finditer(text)"
   ]
  },
  {
   "cell_type": "code",
   "execution_count": 7,
   "id": "ef560126-31d7-4e59-86a5-06b4a6bbf96c",
   "metadata": {},
   "outputs": [],
   "source": [
    "res = [match.groupdict() for match in matches]"
   ]
  },
  {
   "cell_type": "code",
   "execution_count": 8,
   "id": "7388b0f2-ca73-4851-8a70-b54fc0bf8db0",
   "metadata": {},
   "outputs": [],
   "source": [
    "output = {\"customers\": res}"
   ]
  },
  {
   "cell_type": "code",
   "execution_count": 9,
   "id": "e21b4dc3-974c-4cac-a099-189e4046d569",
   "metadata": {},
   "outputs": [],
   "source": [
    "with open(\"customers.json\", \"w\") as outfile:\n",
    "    json.dump(output, outfile, indent=4, sort_keys=False)"
   ]
  },
  {
   "cell_type": "code",
   "execution_count": null,
   "id": "614a4eb5-7ac1-4d5b-a004-0ca4938b3a8b",
   "metadata": {},
   "outputs": [],
   "source": []
  }
 ],
 "metadata": {
  "kernelspec": {
   "display_name": "Python 3 (ipykernel)",
   "language": "python",
   "name": "python3"
  },
  "language_info": {
   "codemirror_mode": {
    "name": "ipython",
    "version": 3
   },
   "file_extension": ".py",
   "mimetype": "text/x-python",
   "name": "python",
   "nbconvert_exporter": "python",
   "pygments_lexer": "ipython3",
   "version": "3.11.8"
  }
 },
 "nbformat": 4,
 "nbformat_minor": 5
}
