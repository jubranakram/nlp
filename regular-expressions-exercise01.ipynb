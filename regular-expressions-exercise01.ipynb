{
 "cells": [
  {
   "cell_type": "markdown",
   "id": "b5a18aa7-1902-46c4-b6d7-cd1afe4f548e",
   "metadata": {},
   "source": [
    "#### Exercise\n",
    "1. Read the input text file\n",
    "2. Perform data cleaning and extract information\n",
    "3. Save extracted information as a JSON file"
   ]
  },
  {
   "cell_type": "code",
   "execution_count": 1,
   "id": "6966a826-7d83-473f-8a7d-7012df19657e",
   "metadata": {},
   "outputs": [],
   "source": [
    "import re\n",
    "import json"
   ]
  },
  {
   "cell_type": "code",
   "execution_count": 2,
   "id": "f478312f-a85c-49ec-92b7-d9d4c603b798",
   "metadata": {},
   "outputs": [
    {
     "data": {
      "text/plain": [
       "'Johnny Depp, 400.123.2890\\nDenzel Washington : 236|457-9876\\nRussell Crowe - 765-271.1389'"
      ]
     },
     "execution_count": 2,
     "metadata": {},
     "output_type": "execute_result"
    }
   ],
   "source": [
    "with open('actors-list.txt', 'r') as f:\n",
    "    text = f.read()\n",
    "text"
   ]
  },
  {
   "cell_type": "code",
   "execution_count": 3,
   "id": "af481acd-2f10-42e0-a119-4dde8b5c96cb",
   "metadata": {},
   "outputs": [],
   "source": [
    "text = re.sub('\\d+[-.|]\\d+[-.|]\\d+', lambda match: re.sub('[.|]', '-', match.group(0)), text)"
   ]
  },
  {
   "cell_type": "code",
   "execution_count": 4,
   "id": "7eb61345-9431-4a7f-b213-fe4a6adb1e22",
   "metadata": {},
   "outputs": [
    {
     "data": {
      "text/plain": [
       "'Johnny Depp, 400-123-2890\\nDenzel Washington : 236-457-9876\\nRussell Crowe - 765-271-1389'"
      ]
     },
     "execution_count": 4,
     "metadata": {},
     "output_type": "execute_result"
    }
   ],
   "source": [
    "text"
   ]
  },
  {
   "cell_type": "code",
   "execution_count": 5,
   "id": "0db3dd2f-e2b9-49a5-832f-78d4c11b17d9",
   "metadata": {},
   "outputs": [],
   "source": [
    "pattern = re.compile('\\n?(?P<FirstName>[a-zA-Z]+)\\s*(?P<LastName>[a-zA-Z]+)\\s*[-:,]\\s*(?P<Phone>\\d+[-.|]\\d+[-.|]\\d+)')"
   ]
  },
  {
   "cell_type": "code",
   "execution_count": 6,
   "id": "12cf7bc6-2eae-4e75-843b-ac7c617a39d6",
   "metadata": {},
   "outputs": [],
   "source": [
    "matches = pattern.finditer(text)"
   ]
  },
  {
   "cell_type": "code",
   "execution_count": 7,
   "id": "aed7c3fe-5c0f-4b81-851e-777f65e40099",
   "metadata": {},
   "outputs": [],
   "source": [
    "rec = [match.groupdict() for match in matches]"
   ]
  },
  {
   "cell_type": "code",
   "execution_count": 8,
   "id": "874e2a6d-be4a-40ca-a503-1bb66f2e1db1",
   "metadata": {},
   "outputs": [
    {
     "data": {
      "text/plain": [
       "[{'FirstName': 'Johnny', 'LastName': 'Depp', 'Phone': '400-123-2890'},\n",
       " {'FirstName': 'Denzel', 'LastName': 'Washington', 'Phone': '236-457-9876'},\n",
       " {'FirstName': 'Russell', 'LastName': 'Crowe', 'Phone': '765-271-1389'}]"
      ]
     },
     "execution_count": 8,
     "metadata": {},
     "output_type": "execute_result"
    }
   ],
   "source": [
    "rec"
   ]
  },
  {
   "cell_type": "code",
   "execution_count": 9,
   "id": "a80dac18-28d8-47fc-b734-e33a8e9b2e8f",
   "metadata": {},
   "outputs": [],
   "source": [
    "output = {\"actors\": rec}"
   ]
  },
  {
   "cell_type": "code",
   "execution_count": 10,
   "id": "d1bd643c-d155-4a26-be10-aeb683c0b09e",
   "metadata": {},
   "outputs": [
    {
     "data": {
      "text/plain": [
       "{'actors': [{'FirstName': 'Johnny',\n",
       "   'LastName': 'Depp',\n",
       "   'Phone': '400-123-2890'},\n",
       "  {'FirstName': 'Denzel', 'LastName': 'Washington', 'Phone': '236-457-9876'},\n",
       "  {'FirstName': 'Russell', 'LastName': 'Crowe', 'Phone': '765-271-1389'}]}"
      ]
     },
     "execution_count": 10,
     "metadata": {},
     "output_type": "execute_result"
    }
   ],
   "source": [
    "output"
   ]
  },
  {
   "cell_type": "code",
   "execution_count": 11,
   "id": "d8033c50-6c3e-440b-8977-50f58a0c179c",
   "metadata": {},
   "outputs": [],
   "source": [
    "with open(\"actors.json\", \"w\") as outfile:\n",
    "    json.dump(output, outfile, indent=4, sort_keys=False)"
   ]
  },
  {
   "cell_type": "code",
   "execution_count": null,
   "id": "46c282aa-edca-46c7-9dd3-2aa27ebcac05",
   "metadata": {},
   "outputs": [],
   "source": []
  }
 ],
 "metadata": {
  "kernelspec": {
   "display_name": "Python 3 (ipykernel)",
   "language": "python",
   "name": "python3"
  },
  "language_info": {
   "codemirror_mode": {
    "name": "ipython",
    "version": 3
   },
   "file_extension": ".py",
   "mimetype": "text/x-python",
   "name": "python",
   "nbconvert_exporter": "python",
   "pygments_lexer": "ipython3",
   "version": "3.11.8"
  }
 },
 "nbformat": 4,
 "nbformat_minor": 5
}
